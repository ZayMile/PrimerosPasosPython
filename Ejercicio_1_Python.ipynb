{
  "nbformat": 4,
  "nbformat_minor": 0,
  "metadata": {
    "colab": {
      "provenance": [],
      "collapsed_sections": [],
      "authorship_tag": "ABX9TyP3NljQ0GPwHJ7NOvfJPcAP",
      "include_colab_link": true
    },
    "kernelspec": {
      "name": "python3",
      "display_name": "Python 3"
    },
    "language_info": {
      "name": "python"
    }
  },
  "cells": [
    {
      "cell_type": "markdown",
      "metadata": {
        "id": "view-in-github",
        "colab_type": "text"
      },
      "source": [
        "<a href=\"https://colab.research.google.com/github/ZayMile/PrimerosPasosPython/blob/main/Ejercicio_1_Python.ipynb\" target=\"_parent\"><img src=\"https://colab.research.google.com/assets/colab-badge.svg\" alt=\"Open In Colab\"/></a>"
      ]
    },
    {
      "cell_type": "markdown",
      "source": [],
      "metadata": {
        "id": "1AiZABg1U2qR"
      }
    },
    {
      "cell_type": "markdown",
      "source": [
        "# 1. Ejercicio No.1 \n",
        "\n",
        "Escribir un programa que pregunte el nombre del usuario en consola y despues de que el usuario lo introduzca muestre por pantalla la cadena ¡Hola *'nombre'*!\n",
        "*'nombre'.* es el nombre que el usuario haya introducido."
      ],
      "metadata": {
        "id": "2o3zQgF2U4ys"
      }
    },
    {
      "cell_type": "code",
      "source": [
        "nombre = input('Ingrese su nombre: ')\n",
        "print(f'Hola {nombre}')"
      ],
      "metadata": {
        "colab": {
          "base_uri": "https://localhost:8080/"
        },
        "id": "Mh99RgBmV_gq",
        "outputId": "2afc610e-9854-4983-f23a-045e45cd600d"
      },
      "execution_count": 3,
      "outputs": [
        {
          "output_type": "stream",
          "name": "stdout",
          "text": [
            "Ingrese su nombre: Zayra\n",
            "Hola Zayra\n"
          ]
        }
      ]
    }
  ]
}